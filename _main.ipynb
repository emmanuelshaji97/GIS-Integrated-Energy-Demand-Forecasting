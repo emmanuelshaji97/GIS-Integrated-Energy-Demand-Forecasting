{
 "cells": [
  {
   "cell_type": "code",
   "execution_count": null,
   "id": "dfabb4d8-1e72-4354-a284-fa98b95ec87a",
   "metadata": {},
   "outputs": [],
   "source": [
    "from scripts.data_collection import collect_data\n",
    "from scripts.forecasting import forecast_energy\n",
    "from scripts.gis_visualization import visualize_demand\n",
    "\n",
    "if __name__ == \"__main__\":\n",
    "    print(\"Starting GIS-Integrated Energy Demand Forecasting...\")\n",
    "    collect_data()\n",
    "    forecast_energy()\n",
    "    visualize_demand()\n",
    "    print(\"Process complete! Check the output files.\")\n"
   ]
  }
 ],
 "metadata": {
  "kernelspec": {
   "display_name": "Python 3 (ipykernel)",
   "language": "python",
   "name": "python3"
  },
  "language_info": {
   "codemirror_mode": {
    "name": "ipython",
    "version": 3
   },
   "file_extension": ".py",
   "mimetype": "text/x-python",
   "name": "python",
   "nbconvert_exporter": "python",
   "pygments_lexer": "ipython3",
   "version": "3.13.0"
  }
 },
 "nbformat": 4,
 "nbformat_minor": 5
}
