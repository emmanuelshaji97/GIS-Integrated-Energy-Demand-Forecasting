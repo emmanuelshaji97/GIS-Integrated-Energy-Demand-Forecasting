{
 "cells": [
  {
   "cell_type": "code",
   "execution_count": null,
   "id": "12df85b8-d3a8-4382-98e7-7049423fe241",
   "metadata": {},
   "outputs": [],
   "source": [
    "import geopandas as gpd\n",
    "import pandas as pd\n",
    "import folium\n",
    "\n",
    "def visualize_demand():\n",
    "    # Load forecasted data\n",
    "    forecasted_data = pd.read_csv(\"data/forecasted_data.csv\")\n",
    "    \n",
    "    # Example GIS shapefile (replace with actual file)\n",
    "    regions = gpd.read_file(\"data/regions.shp\")\n",
    "    \n",
    "    # Merge GIS data with forecasts\n",
    "    regions = regions.merge(forecasted_data, on=\"region\")\n",
    "    \n",
    "    # Create map\n",
    "    m = folium.Map(location=[40.7128, -74.0060], zoom_start=10)  # Example coordinates\n",
    "    \n",
    "    # Add hotspots\n",
    "    for _, row in regions.iterrows():\n",
    "        folium.CircleMarker(\n",
    "            location=[row['latitude'], row['longitude']],\n",
    "            radius=row['forecasted_demand'] / 10,  # Adjust size as needed\n",
    "            color='red',\n",
    "            fill=True,\n",
    "            fill_opacity=0.7,\n",
    "            popup=f\"Region: {row['region']}, Demand: {row['forecasted_demand']}\"\n",
    "        ).add_to(m)\n",
    "    \n",
    "    # Save map\n",
    "    m.save(\"data/demand_hotspots.html\")\n",
    "    print(\"GIS visualization complete!\")\n"
   ]
  }
 ],
 "metadata": {
  "kernelspec": {
   "display_name": "Python 3 (ipykernel)",
   "language": "python",
   "name": "python3"
  },
  "language_info": {
   "codemirror_mode": {
    "name": "ipython",
    "version": 3
   },
   "file_extension": ".py",
   "mimetype": "text/x-python",
   "name": "python",
   "nbconvert_exporter": "python",
   "pygments_lexer": "ipython3",
   "version": "3.13.0"
  }
 },
 "nbformat": 4,
 "nbformat_minor": 5
}
