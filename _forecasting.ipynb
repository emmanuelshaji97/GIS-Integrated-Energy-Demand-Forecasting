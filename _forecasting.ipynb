{
 "cells": [
  {
   "cell_type": "code",
   "execution_count": null,
   "id": "12df85b8-d3a8-4382-98e7-7049423fe241",
   "metadata": {},
   "outputs": [],
   "source": [
    "import pandas as pd\n",
    "from sklearn.model_selection import train_test_split\n",
    "from sklearn.ensemble import RandomForestRegressor\n",
    "from sklearn.metrics import mean_squared_error\n",
    "\n",
    "def forecast_energy():\n",
    "    # Load data\n",
    "    data = pd.read_csv(\"data/traffic_weather_data.csv\")\n",
    "    \n",
    "    # Feature selection and preprocessing\n",
    "    features = ['traffic_density', 'temperature', 'humidity']\n",
    "    target = 'energy_demand'  # Adjust as needed\n",
    "    X = data[features]\n",
    "    y = data[target]\n",
    "    \n",
    "    # Train/test split\n",
    "    X_train, X_test, y_train, y_test = train_test_split(X, y, test_size=0.2, random_state=42)\n",
    "    \n",
    "    # Model training\n",
    "    model = RandomForestRegressor()\n",
    "    model.fit(X_train, y_train)\n",
    "    \n",
    "    # Prediction and evaluation\n",
    "    predictions = model.predict(X_test)\n",
    "    mse = mean_squared_error(y_test, predictions)\n",
    "    print(f\"Mean Squared Error: {mse}\")\n",
    "    \n",
    "    # Save predictions\n",
    "    data['forecasted_demand'] = model.predict(X)\n",
    "    data.to_csv(\"data/forecasted_data.csv\", index=False)\n",
    "    print(\"Forecasting complete!\")"
   ]
  }
 ],
 "metadata": {
  "kernelspec": {
   "display_name": "Python 3 (ipykernel)",
   "language": "python",
   "name": "python3"
  },
  "language_info": {
   "codemirror_mode": {
    "name": "ipython",
    "version": 3
   },
   "file_extension": ".py",
   "mimetype": "text/x-python",
   "name": "python",
   "nbconvert_exporter": "python",
   "pygments_lexer": "ipython3",
   "version": "3.13.0"
  }
 },
 "nbformat": 4,
 "nbformat_minor": 5
}
