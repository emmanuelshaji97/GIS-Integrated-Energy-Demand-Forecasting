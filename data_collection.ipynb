{
 "cells": [
  {
   "cell_type": "code",
   "execution_count": null,
   "id": "790e6072-99ee-4ee1-a4dd-edc3d78b5aee",
   "metadata": {},
   "outputs": [],
   "source": [
    "import requests\n",
    "import geocoder\n",
    "import pandas as pd\n",
    "\n",
    "def collect_data():\n",
    "    # Get current location using IP\n",
    "    g = geocoder.ip('me')\n",
    "    latitude, longitude = g.latlng\n",
    "    print(f\"Current Location: Latitude {latitude}, Longitude {longitude}\")\n",
    "    \n",
    "    # API keys (replace with your actual API keys)\n",
    "    google_maps_api_key = \"YOUR_GOOGLE_MAPS_API_KEY\"\n",
    "    openweather_api_key = \"YOUR_OPENWEATHER_API_KEY\"\n",
    "    \n",
    "    # Fetch traffic data from Google Maps API\n",
    "    traffic_url = f\"https://maps.googleapis.com/maps/api/traffic/json?origin={latitude},{longitude}&destination={latitude},{longitude}&key={google_maps_api_key}\"\n",
    "    traffic_data = requests.get(traffic_url).json()\n",
    "    \n",
    "    # Fetch weather data from OpenWeatherMap API\n",
    "    weather_url = f\"https://api.openweathermap.org/data/2.5/weather?lat={latitude}&lon={longitude}&appid={openweather_api_key}\"\n",
    "    weather_data = requests.get(weather_url).json()\n",
    "    \n",
    "    # Parse and combine data (adjust according to API responses)\n",
    "    traffic_df = pd.DataFrame([{\n",
    "        \"region\": \"Current Region\",\n",
    "        \"traffic_density\": traffic_data.get('traffic_flow', {}).get('density', 0),  # Example field\n",
    "    }])\n",
    "    \n",
    "    weather_df = pd.DataFrame([{\n",
    "        \"region\": \"Current Region\",\n",
    "        \"temperature\": weather_data['main']['temp'],\n",
    "        \"humidity\": weather_data['main']['humidity']\n",
    "    }])\n",
    "    \n",
    "    # Merge data and save to CSV\n",
    "    merged_data = pd.merge(traffic_df, weather_df, on=\"region\")\n",
    "    merged_data['timestamp'] = pd.to_datetime('now')\n",
    "    merged_data.to_csv(\"data/traffic_weather_data.csv\", index=False)\n",
    "    print(\"Data collection complete!\")\n"
   ]
  }
 ],
 "metadata": {
  "kernelspec": {
   "display_name": "Python 3 (ipykernel)",
   "language": "python",
   "name": "python3"
  },
  "language_info": {
   "codemirror_mode": {
    "name": "ipython",
    "version": 3
   },
   "file_extension": ".py",
   "mimetype": "text/x-python",
   "name": "python",
   "nbconvert_exporter": "python",
   "pygments_lexer": "ipython3",
   "version": "3.13.0"
  }
 },
 "nbformat": 4,
 "nbformat_minor": 5
}
